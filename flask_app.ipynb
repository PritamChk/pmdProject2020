{
  "nbformat": 4,
  "nbformat_minor": 0,
  "metadata": {
    "colab": {
      "name": "flask_app.ipynb",
      "provenance": [],
      "collapsed_sections": []
    },
    "kernelspec": {
      "name": "python3",
      "display_name": "Python 3"
    },
    "accelerator": "GPU"
  },
  "cells": [
    {
      "cell_type": "code",
      "metadata": {
        "id": "0grE_aemx7BV",
        "colab_type": "code",
        "outputId": "d230cf8d-de8a-4029-9c82-cd136ccedcb5",
        "colab": {
          "base_uri": "https://localhost:8080/",
          "height": 124
        }
      },
      "source": [
        "from google.colab import drive\n",
        "drive.mount('/content/drive')"
      ],
      "execution_count": 1,
      "outputs": [
        {
          "output_type": "stream",
          "text": [
            "Go to this URL in a browser: https://accounts.google.com/o/oauth2/auth?client_id=947318989803-6bn6qk8qdgf4n4g3pfee6491hc0brc4i.apps.googleusercontent.com&redirect_uri=urn%3aietf%3awg%3aoauth%3a2.0%3aoob&response_type=code&scope=email%20https%3a%2f%2fwww.googleapis.com%2fauth%2fdocs.test%20https%3a%2f%2fwww.googleapis.com%2fauth%2fdrive%20https%3a%2f%2fwww.googleapis.com%2fauth%2fdrive.photos.readonly%20https%3a%2f%2fwww.googleapis.com%2fauth%2fpeopleapi.readonly\n",
            "\n",
            "Enter your authorization code:\n",
            "··········\n",
            "Mounted at /content/drive\n"
          ],
          "name": "stdout"
        }
      ]
    },
    {
      "cell_type": "code",
      "metadata": {
        "id": "H-kw2f3TW-bu",
        "colab_type": "code",
        "outputId": "37818666-f28d-4861-eec4-906a16b41ad2",
        "colab": {
          "base_uri": "https://localhost:8080/",
          "height": 296
        }
      },
      "source": [
        "!pip install flask-ngrok"
      ],
      "execution_count": 2,
      "outputs": [
        {
          "output_type": "stream",
          "text": [
            "Collecting flask-ngrok\n",
            "  Downloading https://files.pythonhosted.org/packages/af/6c/f54cb686ad1129e27d125d182f90f52b32f284e6c8df58c1bae54fa1adbc/flask_ngrok-0.0.25-py3-none-any.whl\n",
            "Requirement already satisfied: requests in /usr/local/lib/python3.6/dist-packages (from flask-ngrok) (2.21.0)\n",
            "Requirement already satisfied: Flask>=0.8 in /usr/local/lib/python3.6/dist-packages (from flask-ngrok) (1.1.1)\n",
            "Requirement already satisfied: chardet<3.1.0,>=3.0.2 in /usr/local/lib/python3.6/dist-packages (from requests->flask-ngrok) (3.0.4)\n",
            "Requirement already satisfied: certifi>=2017.4.17 in /usr/local/lib/python3.6/dist-packages (from requests->flask-ngrok) (2019.11.28)\n",
            "Requirement already satisfied: idna<2.9,>=2.5 in /usr/local/lib/python3.6/dist-packages (from requests->flask-ngrok) (2.8)\n",
            "Requirement already satisfied: urllib3<1.25,>=1.21.1 in /usr/local/lib/python3.6/dist-packages (from requests->flask-ngrok) (1.24.3)\n",
            "Requirement already satisfied: itsdangerous>=0.24 in /usr/local/lib/python3.6/dist-packages (from Flask>=0.8->flask-ngrok) (1.1.0)\n",
            "Requirement already satisfied: Werkzeug>=0.15 in /usr/local/lib/python3.6/dist-packages (from Flask>=0.8->flask-ngrok) (0.16.0)\n",
            "Requirement already satisfied: Jinja2>=2.10.1 in /usr/local/lib/python3.6/dist-packages (from Flask>=0.8->flask-ngrok) (2.10.3)\n",
            "Requirement already satisfied: click>=5.1 in /usr/local/lib/python3.6/dist-packages (from Flask>=0.8->flask-ngrok) (7.0)\n",
            "Requirement already satisfied: MarkupSafe>=0.23 in /usr/local/lib/python3.6/dist-packages (from Jinja2>=2.10.1->Flask>=0.8->flask-ngrok) (1.1.1)\n",
            "Installing collected packages: flask-ngrok\n",
            "Successfully installed flask-ngrok-0.0.25\n"
          ],
          "name": "stdout"
        }
      ]
    },
    {
      "cell_type": "code",
      "metadata": {
        "id": "SeiWxgTYo-Ng",
        "colab_type": "code",
        "colab": {}
      },
      "source": [
        "#web app libraries\n",
        "from flask import Flask,request,render_template,flash,url_for,redirect\n",
        "from flask_ngrok import run_with_ngrok\n",
        "\n",
        "#OS and Measure Time\n",
        "import os\n",
        "from time import perf_counter\n",
        "\n",
        "#preprocessing libraries\n",
        "from tensorflow.keras.preprocessing.image import load_img,img_to_array,array_to_img,save_img\n",
        "import numpy as np\n",
        "from sklearn.preprocessing import LabelEncoder\n",
        "from tensorflow.keras.utils import to_categorical\n",
        "\n",
        "# Model Loading Library\n",
        "from tensorflow.keras.models import load_model,model_from_json\n",
        "\n",
        "#path=os.getcwd()\n",
        "#print(path)"
      ],
      "execution_count": 0,
      "outputs": []
    },
    {
      "cell_type": "markdown",
      "metadata": {
        "id": "bFJqK4zl_T4E",
        "colab_type": "text"
      },
      "source": [
        "#Delete Uploaded Images from server "
      ]
    },
    {
      "cell_type": "code",
      "metadata": {
        "id": "F2mp54lA1GpA",
        "colab_type": "code",
        "colab": {}
      },
      "source": [
        "def delete_img_folder():\n",
        "  path_to_static=os.path.join(os.getcwd(),'static')\n",
        "  if 'images'not in os.listdir(path_to_static):\n",
        "    return None\n",
        "  path_to_img_folder=os.path.join(os.getcwd(),'static','images')\n",
        "  print(path_to_img_folder)\n",
        "  imgs=os.listdir(path_to_img_folder)\n",
        "  for i in imgs:\n",
        "    rpath=os.path.join(path_to_img_folder,i)\n",
        "    print(rpath)\n",
        "    os.remove(rpath)\n",
        "  os.rmdir(path_to_img_folder)"
      ],
      "execution_count": 0,
      "outputs": []
    },
    {
      "cell_type": "markdown",
      "metadata": {
        "id": "0QBF35Jj_NEY",
        "colab_type": "text"
      },
      "source": [
        "#Create Image Folder to store uploaded image"
      ]
    },
    {
      "cell_type": "code",
      "metadata": {
        "id": "WUqdaF-pt3GA",
        "colab_type": "code",
        "colab": {}
      },
      "source": [
        "def make_img_folder():\n",
        "  path_change=os.path.join(os.getcwd(),'static','images')\n",
        "  #print(path_change)\n",
        "  if not os.path.isdir(path_change):        \n",
        "    os.mkdir(path_change)\n",
        "    print(f'{path_change} dir created')\n",
        "    return path_change"
      ],
      "execution_count": 0,
      "outputs": []
    },
    {
      "cell_type": "markdown",
      "metadata": {
        "id": "vsRmrmWwAwhP",
        "colab_type": "text"
      },
      "source": [
        "#Load Model"
      ]
    },
    {
      "cell_type": "code",
      "metadata": {
        "id": "dE8V3Iq6AwKK",
        "colab_type": "code",
        "colab": {}
      },
      "source": [
        "def load_PMD_model():\n",
        "  #H5\n",
        "  \"\"\"\n",
        "  path_to_model=os.path.join(os.getcwd(),'final_model_v1.h5')\n",
        "  model=load_model(path_to_model)\n",
        "  \"\"\"\n",
        "  #JSON\n",
        "  # load json and create model\n",
        "  model_dir=os.path.join(os.getcwd(),\"Final_model_v1.json\")\n",
        "  json_file = open(model_dir, 'r')\n",
        "  loaded_model_json = json_file.read()\n",
        "  json_file.close()\n",
        "  loaded_model = model_from_json(loaded_model_json)\n",
        "  # load weights into new model\n",
        "  loaded_model.load_weights(os.path.join(os.getcwd(),\"weights_for_jsonModel.h5\"))\n",
        "  loaded_model.compile(loss=\"categorical_crossentropy\",metrics=['accuracy'],optimizer=\"adam\")\n",
        "  #model.summary()\n",
        "  return loaded_model"
      ],
      "execution_count": 0,
      "outputs": []
    },
    {
      "cell_type": "markdown",
      "metadata": {
        "id": "Ds0gSuQMHYrh",
        "colab_type": "text"
      },
      "source": [
        "#Get the Processed Image"
      ]
    },
    {
      "cell_type": "code",
      "metadata": {
        "id": "FxqZaHoGHYSQ",
        "colab_type": "code",
        "colab": {}
      },
      "source": [
        "def get_image(imageName):\n",
        "  path_to_img=os.path.join(os.getcwd(),f'static/images/{imageName}')\n",
        "  img=load_img(path_to_img)\n",
        "  #display(img)\n",
        "  img_arr=np.resize(img_to_array(img),[128,128,3])\n",
        "  img_arr=img_arr.reshape(1,128,128,3).astype(\"Int32\")\n",
        "  return img_arr"
      ],
      "execution_count": 0,
      "outputs": []
    },
    {
      "cell_type": "markdown",
      "metadata": {
        "id": "3eGqr2RIt3rS",
        "colab_type": "text"
      },
      "source": [
        "#Decoder Function"
      ]
    },
    {
      "cell_type": "code",
      "metadata": {
        "id": "g1sLDdpiqDgl",
        "colab_type": "code",
        "colab": {}
      },
      "source": [
        "def pmdDecoder(class_names):\n",
        "  LE=LabelEncoder()\n",
        "  #label encoding\n",
        "  L_encd=LE.fit_transform(class_names)\n",
        "  #print(L_encd)\n",
        "  no_of_cls=len(L_encd)\n",
        "  #onehot encoding on label encoded \n",
        "  ohEnc=to_categorical(L_encd,no_of_cls)\n",
        "  pmdEnc={}\n",
        "  for i,j in zip(class_names,ohEnc):\n",
        "    pmdEnc[str(j)]=i\n",
        "  print(pmdEnc)\n",
        "  return pmdEnc\n"
      ],
      "execution_count": 0,
      "outputs": []
    },
    {
      "cell_type": "markdown",
      "metadata": {
        "id": "gZ1SlGG-Sm2J",
        "colab_type": "text"
      },
      "source": [
        "#Prediction Making Function"
      ]
    },
    {
      "cell_type": "code",
      "metadata": {
        "id": "cCwDUsNwOeYC",
        "colab_type": "code",
        "colab": {}
      },
      "source": [
        "def predict_the_class(model,image):\n",
        "  class_names=class_names=['forest','snow_covered_land','grass_land','buildings','water','barren_land']\n",
        "  predicted_result_encoded=model.predict_proba(image)\n",
        "  predicted_result=[int(i) for i in predicted_result_encoded[0]]\n",
        "  pred_np_arr=np.array(predicted_result,dtype=\"float32\")\n",
        "  decoder=pmdDecoder(class_names)\n",
        "  return decoder[str(pred_np_arr)]"
      ],
      "execution_count": 0,
      "outputs": []
    },
    {
      "cell_type": "markdown",
      "metadata": {
        "id": "cdUS8PG7SsBC",
        "colab_type": "text"
      },
      "source": [
        "#The PMD Flask App"
      ]
    },
    {
      "cell_type": "code",
      "metadata": {
        "id": "W6GCfsNMhhf0",
        "colab_type": "code",
        "colab": {}
      },
      "source": [
        "#!cp /content/drive/My\\ Drive/GUI_Test/PMD_GUI_2020/final_model_v1.h5 -r /content/\n",
        "!cp /content/drive/My\\ Drive/PMD_Models/Final_model_v1.json -r /content/\n",
        "!cp /content/drive/My\\ Drive/PMD_Models/weights_for_jsonModel.h5 -r /content/\n",
        "!cp /content/drive/My\\ Drive/GUI_Test/PMD_GUI_2020/static -r /content/\n",
        "!cp /content/drive/My\\ Drive/GUI_Test/PMD_GUI_2020/templates -r /content/"
      ],
      "execution_count": 0,
      "outputs": []
    },
    {
      "cell_type": "code",
      "metadata": {
        "id": "UP8s5aEeSYMb",
        "colab_type": "code",
        "outputId": "58aecc21-35b8-4a46-fc43-667322398f5c",
        "colab": {
          "base_uri": "https://localhost:8080/",
          "height": 1000
        }
      },
      "source": [
        "app=Flask(__name__)\n",
        "run_with_ngrok(app)\n",
        "\n",
        "app.config['SECRET_KEY']=\"LoL 13 NoOne Can Guess This Key XD\"\n",
        "#app.config['DEBUG']=True\n",
        "app.config['IMAGE_UPLOAD']=make_img_folder()#os.path.join(os.getcwd(),'static','images')\n",
        "\n",
        "@app.route('/')\n",
        "def home_page():\n",
        "  #path_to_images=make_img_folder()\n",
        "  return render_template('index.html',val=False,msg=\"Upload an Image\")\n",
        "\n",
        "@app.route('/upload',methods=[\"POST\",\"GET\"])\n",
        "def upload_img():\n",
        "  delete_img_folder()\n",
        "  if request.method==\"POST\":\n",
        "    app.config['IMAGE_UPLOAD']=make_img_folder()#os.path.join(os.getcwd(),'static','images')\n",
        "    k=False\n",
        "    if request.files and request.files['myImage'].filename != '' :\n",
        "      filename=request.files['myImage']\n",
        "      print(filename)\n",
        "      filename.save(os.path.join(app.config['IMAGE_UPLOAD'],filename.filename))\n",
        "      k=True\n",
        "      path='../static/images'\n",
        "      path=os.path.join(path,filename.filename)\n",
        "      print(f\"path of the image : {path}\")\n",
        "      #path=\"../static/uploaded_images/\"\n",
        "      return render_template(\"img.html\",fileName=path)\n",
        "      #return render_template(\"index.html\",val=k,msg=\"Plz Upload Again\",sz=fSize(pathJoin(app.config['IMAGE_UPLOAD'],filename.filename))//(1024*1024))\n",
        "    else:\n",
        "      k=False\n",
        "      return render_template(\"index.html\",val=k,msg=\"Plz Upload Again\" )\n",
        "      #return render_template(\"img.html\",fileName=path)\n",
        "  else:\n",
        "    return render_template('index.html',msg=\"Upload The Image\")\n",
        "\n",
        "@app.route('/predict')\n",
        "def predict_my_image():\n",
        "  image_name=os.listdir(app.config['IMAGE_UPLOAD'])\n",
        "  print(image_name[0])\n",
        "  #path_to_img=os.path.join(app.config['IMAGE_UPLOAD'],image_name)\n",
        "  ans=predict_the_class(load_PMD_model(),get_image(image_name[0]))\n",
        "  #delete_img_folder()\n",
        "  return render_template('result.html',Ans=ans)\n",
        "\n",
        "if __name__==\"__main__\":\n",
        "  app.run()"
      ],
      "execution_count": 25,
      "outputs": [
        {
          "output_type": "stream",
          "text": [
            " * Serving Flask app \"__main__\" (lazy loading)\n",
            " * Environment: production\n",
            "   WARNING: This is a development server. Do not use it in a production deployment.\n",
            "   Use a production WSGI server instead.\n",
            " * Debug mode: off\n"
          ],
          "name": "stdout"
        },
        {
          "output_type": "stream",
          "text": [
            " * Running on http://127.0.0.1:5000/ (Press CTRL+C to quit)\n"
          ],
          "name": "stderr"
        },
        {
          "output_type": "stream",
          "text": [
            " * Running on http://ef3eed52.ngrok.io\n",
            " * Traffic stats available on http://127.0.0.1:4040\n"
          ],
          "name": "stdout"
        },
        {
          "output_type": "stream",
          "text": [
            "127.0.0.1 - - [28/Jan/2020 19:48:19] \"\u001b[37mGET / HTTP/1.1\u001b[0m\" 200 -\n",
            "127.0.0.1 - - [28/Jan/2020 19:48:19] \"\u001b[37mGET /static/style.css HTTP/1.1\u001b[0m\" 200 -\n",
            "127.0.0.1 - - [28/Jan/2020 19:48:20] \"\u001b[33mGET /favicon.ico HTTP/1.1\u001b[0m\" 404 -\n"
          ],
          "name": "stderr"
        },
        {
          "output_type": "stream",
          "text": [
            "/content/static/images\n",
            "/content/static/images/1_p.jpg\n",
            "/content/static/images dir created\n"
          ],
          "name": "stdout"
        },
        {
          "output_type": "stream",
          "text": [
            "127.0.0.1 - - [28/Jan/2020 19:48:34] \"\u001b[37mPOST /upload HTTP/1.1\u001b[0m\" 200 -\n"
          ],
          "name": "stderr"
        },
        {
          "output_type": "stream",
          "text": [
            "<FileStorage: '5_p.jpg' ('image/jpeg')>\n",
            "path of the image : ../static/images/5_p.jpg\n"
          ],
          "name": "stdout"
        },
        {
          "output_type": "stream",
          "text": [
            "127.0.0.1 - - [28/Jan/2020 19:48:34] \"\u001b[37mGET /static/style_show.css HTTP/1.1\u001b[0m\" 200 -\n",
            "127.0.0.1 - - [28/Jan/2020 19:48:34] \"\u001b[37mGET /static/images/5_p.jpg HTTP/1.1\u001b[0m\" 200 -\n"
          ],
          "name": "stderr"
        },
        {
          "output_type": "stream",
          "text": [
            "5_p.jpg\n"
          ],
          "name": "stdout"
        },
        {
          "output_type": "stream",
          "text": [
            "/usr/local/lib/python3.6/dist-packages/ipykernel_launcher.py:6: DeprecationWarning: Numeric-style type codes are deprecated and will result in an error in the future.\n",
            "  \n",
            "127.0.0.1 - - [28/Jan/2020 19:48:38] \"\u001b[37mGET /predict HTTP/1.1\u001b[0m\" 200 -\n"
          ],
          "name": "stderr"
        },
        {
          "output_type": "stream",
          "text": [
            "{'[0. 0. 1. 0. 0. 0.]': 'forest', '[0. 0. 0. 0. 1. 0.]': 'snow_covered_land', '[0. 0. 0. 1. 0. 0.]': 'grass_land', '[0. 1. 0. 0. 0. 0.]': 'buildings', '[0. 0. 0. 0. 0. 1.]': 'water', '[1. 0. 0. 0. 0. 0.]': 'barren_land'}\n"
          ],
          "name": "stdout"
        },
        {
          "output_type": "stream",
          "text": [
            "127.0.0.1 - - [28/Jan/2020 19:48:45] \"\u001b[37mGET / HTTP/1.1\u001b[0m\" 200 -\n",
            "127.0.0.1 - - [28/Jan/2020 19:48:55] \"\u001b[37mPOST /upload HTTP/1.1\u001b[0m\" 200 -\n"
          ],
          "name": "stderr"
        },
        {
          "output_type": "stream",
          "text": [
            "/content/static/images\n",
            "/content/static/images/5_p.jpg\n",
            "/content/static/images dir created\n",
            "<FileStorage: '27_p.jpg' ('image/jpeg')>\n",
            "path of the image : ../static/images/27_p.jpg\n"
          ],
          "name": "stdout"
        },
        {
          "output_type": "stream",
          "text": [
            "127.0.0.1 - - [28/Jan/2020 19:48:56] \"\u001b[37mGET /static/images/27_p.jpg HTTP/1.1\u001b[0m\" 200 -\n"
          ],
          "name": "stderr"
        },
        {
          "output_type": "stream",
          "text": [
            "27_p.jpg\n"
          ],
          "name": "stdout"
        },
        {
          "output_type": "stream",
          "text": [
            "127.0.0.1 - - [28/Jan/2020 19:49:00] \"\u001b[37mGET /predict HTTP/1.1\u001b[0m\" 200 -\n"
          ],
          "name": "stderr"
        },
        {
          "output_type": "stream",
          "text": [
            "{'[0. 0. 1. 0. 0. 0.]': 'forest', '[0. 0. 0. 0. 1. 0.]': 'snow_covered_land', '[0. 0. 0. 1. 0. 0.]': 'grass_land', '[0. 1. 0. 0. 0. 0.]': 'buildings', '[0. 0. 0. 0. 0. 1.]': 'water', '[1. 0. 0. 0. 0. 0.]': 'barren_land'}\n"
          ],
          "name": "stdout"
        },
        {
          "output_type": "stream",
          "text": [
            "127.0.0.1 - - [28/Jan/2020 19:49:03] \"\u001b[37mGET / HTTP/1.1\u001b[0m\" 200 -\n",
            "127.0.0.1 - - [28/Jan/2020 19:49:14] \"\u001b[37mPOST /upload HTTP/1.1\u001b[0m\" 200 -\n"
          ],
          "name": "stderr"
        },
        {
          "output_type": "stream",
          "text": [
            "/content/static/images\n",
            "/content/static/images/27_p.jpg\n",
            "/content/static/images dir created\n",
            "<FileStorage: '3.png' ('image/png')>\n",
            "path of the image : ../static/images/3.png\n"
          ],
          "name": "stdout"
        },
        {
          "output_type": "stream",
          "text": [
            "127.0.0.1 - - [28/Jan/2020 19:49:15] \"\u001b[37mGET /static/images/3.png HTTP/1.1\u001b[0m\" 200 -\n"
          ],
          "name": "stderr"
        },
        {
          "output_type": "stream",
          "text": [
            "3.png\n"
          ],
          "name": "stdout"
        },
        {
          "output_type": "stream",
          "text": [
            "127.0.0.1 - - [28/Jan/2020 19:49:20] \"\u001b[37mGET /predict HTTP/1.1\u001b[0m\" 200 -\n"
          ],
          "name": "stderr"
        },
        {
          "output_type": "stream",
          "text": [
            "{'[0. 0. 1. 0. 0. 0.]': 'forest', '[0. 0. 0. 0. 1. 0.]': 'snow_covered_land', '[0. 0. 0. 1. 0. 0.]': 'grass_land', '[0. 1. 0. 0. 0. 0.]': 'buildings', '[0. 0. 0. 0. 0. 1.]': 'water', '[1. 0. 0. 0. 0. 0.]': 'barren_land'}\n"
          ],
          "name": "stdout"
        },
        {
          "output_type": "stream",
          "text": [
            "127.0.0.1 - - [28/Jan/2020 19:49:22] \"\u001b[37mGET / HTTP/1.1\u001b[0m\" 200 -\n",
            "127.0.0.1 - - [28/Jan/2020 19:49:30] \"\u001b[37mPOST /upload HTTP/1.1\u001b[0m\" 200 -\n"
          ],
          "name": "stderr"
        },
        {
          "output_type": "stream",
          "text": [
            "/content/static/images\n",
            "/content/static/images/3.png\n",
            "/content/static/images dir created\n",
            "<FileStorage: '8.png' ('image/png')>\n",
            "path of the image : ../static/images/8.png\n"
          ],
          "name": "stdout"
        },
        {
          "output_type": "stream",
          "text": [
            "127.0.0.1 - - [28/Jan/2020 19:49:30] \"\u001b[37mGET /static/images/8.png HTTP/1.1\u001b[0m\" 200 -\n"
          ],
          "name": "stderr"
        },
        {
          "output_type": "stream",
          "text": [
            "8.png\n"
          ],
          "name": "stdout"
        },
        {
          "output_type": "stream",
          "text": [
            "127.0.0.1 - - [28/Jan/2020 19:49:36] \"\u001b[37mGET /predict HTTP/1.1\u001b[0m\" 200 -\n"
          ],
          "name": "stderr"
        },
        {
          "output_type": "stream",
          "text": [
            "{'[0. 0. 1. 0. 0. 0.]': 'forest', '[0. 0. 0. 0. 1. 0.]': 'snow_covered_land', '[0. 0. 0. 1. 0. 0.]': 'grass_land', '[0. 1. 0. 0. 0. 0.]': 'buildings', '[0. 0. 0. 0. 0. 1.]': 'water', '[1. 0. 0. 0. 0. 0.]': 'barren_land'}\n"
          ],
          "name": "stdout"
        },
        {
          "output_type": "stream",
          "text": [
            "127.0.0.1 - - [28/Jan/2020 19:49:38] \"\u001b[37mGET / HTTP/1.1\u001b[0m\" 200 -\n",
            "127.0.0.1 - - [28/Jan/2020 19:49:46] \"\u001b[37mPOST /upload HTTP/1.1\u001b[0m\" 200 -\n"
          ],
          "name": "stderr"
        },
        {
          "output_type": "stream",
          "text": [
            "/content/static/images\n",
            "/content/static/images/8.png\n",
            "/content/static/images dir created\n",
            "<FileStorage: '7.png' ('image/png')>\n",
            "path of the image : ../static/images/7.png\n"
          ],
          "name": "stdout"
        },
        {
          "output_type": "stream",
          "text": [
            "127.0.0.1 - - [28/Jan/2020 19:49:46] \"\u001b[37mGET /static/images/7.png HTTP/1.1\u001b[0m\" 200 -\n"
          ],
          "name": "stderr"
        },
        {
          "output_type": "stream",
          "text": [
            "7.png\n"
          ],
          "name": "stdout"
        },
        {
          "output_type": "stream",
          "text": [
            "127.0.0.1 - - [28/Jan/2020 19:49:50] \"\u001b[37mGET /predict HTTP/1.1\u001b[0m\" 200 -\n"
          ],
          "name": "stderr"
        },
        {
          "output_type": "stream",
          "text": [
            "{'[0. 0. 1. 0. 0. 0.]': 'forest', '[0. 0. 0. 0. 1. 0.]': 'snow_covered_land', '[0. 0. 0. 1. 0. 0.]': 'grass_land', '[0. 1. 0. 0. 0. 0.]': 'buildings', '[0. 0. 0. 0. 0. 1.]': 'water', '[1. 0. 0. 0. 0. 0.]': 'barren_land'}\n"
          ],
          "name": "stdout"
        },
        {
          "output_type": "stream",
          "text": [
            "127.0.0.1 - - [28/Jan/2020 19:49:53] \"\u001b[37mGET / HTTP/1.1\u001b[0m\" 200 -\n",
            "127.0.0.1 - - [28/Jan/2020 19:50:03] \"\u001b[37mPOST /upload HTTP/1.1\u001b[0m\" 200 -\n"
          ],
          "name": "stderr"
        },
        {
          "output_type": "stream",
          "text": [
            "/content/static/images\n",
            "/content/static/images/7.png\n",
            "/content/static/images dir created\n",
            "<FileStorage: 'p_8.jpg' ('image/jpeg')>\n",
            "path of the image : ../static/images/p_8.jpg\n"
          ],
          "name": "stdout"
        },
        {
          "output_type": "stream",
          "text": [
            "127.0.0.1 - - [28/Jan/2020 19:50:04] \"\u001b[37mGET /static/images/p_8.jpg HTTP/1.1\u001b[0m\" 200 -\n"
          ],
          "name": "stderr"
        },
        {
          "output_type": "stream",
          "text": [
            "p_8.jpg\n"
          ],
          "name": "stdout"
        },
        {
          "output_type": "stream",
          "text": [
            "127.0.0.1 - - [28/Jan/2020 19:50:07] \"\u001b[37mGET /predict HTTP/1.1\u001b[0m\" 200 -\n"
          ],
          "name": "stderr"
        },
        {
          "output_type": "stream",
          "text": [
            "{'[0. 0. 1. 0. 0. 0.]': 'forest', '[0. 0. 0. 0. 1. 0.]': 'snow_covered_land', '[0. 0. 0. 1. 0. 0.]': 'grass_land', '[0. 1. 0. 0. 0. 0.]': 'buildings', '[0. 0. 0. 0. 0. 1.]': 'water', '[1. 0. 0. 0. 0. 0.]': 'barren_land'}\n"
          ],
          "name": "stdout"
        },
        {
          "output_type": "stream",
          "text": [
            "127.0.0.1 - - [28/Jan/2020 19:50:09] \"\u001b[37mGET / HTTP/1.1\u001b[0m\" 200 -\n",
            "127.0.0.1 - - [28/Jan/2020 19:50:16] \"\u001b[37mPOST /upload HTTP/1.1\u001b[0m\" 200 -\n"
          ],
          "name": "stderr"
        },
        {
          "output_type": "stream",
          "text": [
            "/content/static/images\n",
            "/content/static/images/p_8.jpg\n",
            "/content/static/images dir created\n",
            "<FileStorage: 'p_19.jpg' ('image/jpeg')>\n",
            "path of the image : ../static/images/p_19.jpg\n"
          ],
          "name": "stdout"
        },
        {
          "output_type": "stream",
          "text": [
            "127.0.0.1 - - [28/Jan/2020 19:50:17] \"\u001b[37mGET /static/images/p_19.jpg HTTP/1.1\u001b[0m\" 200 -\n"
          ],
          "name": "stderr"
        },
        {
          "output_type": "stream",
          "text": [
            "p_19.jpg\n"
          ],
          "name": "stdout"
        },
        {
          "output_type": "stream",
          "text": [
            "127.0.0.1 - - [28/Jan/2020 19:50:20] \"\u001b[37mGET /predict HTTP/1.1\u001b[0m\" 200 -\n"
          ],
          "name": "stderr"
        },
        {
          "output_type": "stream",
          "text": [
            "{'[0. 0. 1. 0. 0. 0.]': 'forest', '[0. 0. 0. 0. 1. 0.]': 'snow_covered_land', '[0. 0. 0. 1. 0. 0.]': 'grass_land', '[0. 1. 0. 0. 0. 0.]': 'buildings', '[0. 0. 0. 0. 0. 1.]': 'water', '[1. 0. 0. 0. 0. 0.]': 'barren_land'}\n"
          ],
          "name": "stdout"
        },
        {
          "output_type": "stream",
          "text": [
            "127.0.0.1 - - [28/Jan/2020 19:50:23] \"\u001b[37mGET / HTTP/1.1\u001b[0m\" 200 -\n"
          ],
          "name": "stderr"
        },
        {
          "output_type": "stream",
          "text": [
            "/content/static/images\n",
            "/content/static/images/p_19.jpg\n",
            "/content/static/images dir created\n"
          ],
          "name": "stdout"
        },
        {
          "output_type": "stream",
          "text": [
            "127.0.0.1 - - [28/Jan/2020 19:50:40] \"\u001b[37mPOST /upload HTTP/1.1\u001b[0m\" 200 -\n"
          ],
          "name": "stderr"
        },
        {
          "output_type": "stream",
          "text": [
            "<FileStorage: '5.jpg' ('image/jpeg')>\n",
            "path of the image : ../static/images/5.jpg\n"
          ],
          "name": "stdout"
        },
        {
          "output_type": "stream",
          "text": [
            "127.0.0.1 - - [28/Jan/2020 19:50:40] \"\u001b[37mGET /static/images/5.jpg HTTP/1.1\u001b[0m\" 200 -\n"
          ],
          "name": "stderr"
        },
        {
          "output_type": "stream",
          "text": [
            "5.jpg\n"
          ],
          "name": "stdout"
        },
        {
          "output_type": "stream",
          "text": [
            "127.0.0.1 - - [28/Jan/2020 19:50:50] \"\u001b[37mGET /predict HTTP/1.1\u001b[0m\" 200 -\n"
          ],
          "name": "stderr"
        },
        {
          "output_type": "stream",
          "text": [
            "{'[0. 0. 1. 0. 0. 0.]': 'forest', '[0. 0. 0. 0. 1. 0.]': 'snow_covered_land', '[0. 0. 0. 1. 0. 0.]': 'grass_land', '[0. 1. 0. 0. 0. 0.]': 'buildings', '[0. 0. 0. 0. 0. 1.]': 'water', '[1. 0. 0. 0. 0. 0.]': 'barren_land'}\n"
          ],
          "name": "stdout"
        }
      ]
    },
    {
      "cell_type": "code",
      "metadata": {
        "id": "2aX7RbaQVrhd",
        "colab_type": "code",
        "colab": {}
      },
      "source": [
        ""
      ],
      "execution_count": 0,
      "outputs": []
    }
  ]
}